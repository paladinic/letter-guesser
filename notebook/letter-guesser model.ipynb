{
 "cells": [
  {
   "cell_type": "markdown",
   "metadata": {},
   "source": [
    "# Letter Recognition\n",
    " Model Comparison"
   ]
  },
  {
   "cell_type": "markdown",
   "metadata": {},
   "source": [
    "## Set Up"
   ]
  },
  {
   "cell_type": "markdown",
   "metadata": {},
   "source": [
    "### Import Libraries"
   ]
  },
  {
   "cell_type": "code",
   "execution_count": 3,
   "metadata": {},
   "outputs": [],
   "source": [
    "# image manipulation\n",
    "import cv2\n",
    "\n",
    "# data\n",
    "from emnist import extract_training_samples,extract_test_samples\n",
    "\n",
    "# visualisation\n",
    "import matplotlib.pyplot as plt\n",
    "\n",
    "# data manipulation\n",
    "import pandas as pd\n",
    "import numpy as np\n",
    "\n",
    "# modelling\n",
    "from sklearn.tree import DecisionTreeClassifier\n",
    "from sklearn.ensemble import RandomForestClassifier\n",
    "from sklearn.model_selection import train_test_split\n",
    "from sklearn.linear_model import LogisticRegression\n",
    "from sklearn.neural_network import MLPClassifier\n",
    "\n",
    "from tensorflow.keras.layers import Dense, Flatten, MaxPooling2D, Conv2D\n",
    "from tensorflow.keras.models import Sequential\n",
    "from tensorflow.keras.utils import to_categorical\n",
    "from tensorflow.keras.callbacks import EarlyStopping\n",
    "\n",
    "from tensorflow.config import run_functions_eagerly"
   ]
  },
  {
   "cell_type": "markdown",
   "metadata": {},
   "source": [
    "### Useful functions"
   ]
  },
  {
   "cell_type": "code",
   "execution_count": 4,
   "metadata": {
    "scrolled": true
   },
   "outputs": [],
   "source": [
    "# from local image (png, jpg, ...) to data\n",
    "def img_to_data(src,n):\n",
    "    originalImage = cv2.imread(src)\n",
    "    grayImage = cv2.cvtColor(originalImage, cv2.COLOR_BGR2GRAY)\n",
    "    resizedImage = cv2.resize(grayImage, (n,n))\n",
    "    rescaledImage = 16 - resizedImage*(16/255)\n",
    "    return rescaledImage\n",
    "\n",
    "# plot image\n",
    "def show_char(d):\n",
    "    plt.imshow(d, cmap=plt.cm.gray_r, interpolation='nearest')\n",
    "    plt.show()\n",
    "\n",
    "# prediction as letter\n",
    "alphabet = np.array([\"a\",\"b\",\"c\",\"d\",\"e\",\"f\",\"g\",\"h\",\"i\",\"j\",\"k\",\"l\",\"m\",\"n\",\"o\",\"p\",\"q\",\"r\",\"s\",\"t\",\"u\",\"v\",\"w\",\"x\",\"y\",\"z\"])\n",
    "def alph_res(pred):\n",
    "    return (alphabet[pred == max(pred)])\n",
    "\n",
    "# test model\n",
    "def test_model(model,X_test,y_test):\n",
    "    pred = model.predict(X_test)\n",
    "    model.score(X=X_test,y = y_test)\n",
    "    return(pred)"
   ]
  },
  {
   "cell_type": "markdown",
   "metadata": {},
   "source": [
    "### Importing the Data (emnist)"
   ]
  },
  {
   "cell_type": "code",
   "execution_count": 5,
   "metadata": {},
   "outputs": [
    {
     "data": {
      "image/png": "[encoded data removed]",
      "text/plain": [
       "<Figure size 640x480 with 1 Axes>"
      ]
     },
     "metadata": {},
     "output_type": "display_data"
    },
    {
     "data": {
      "image/png": "[encoded data removed]",
      "text/plain": [
       "<Figure size 640x480 with 1 Axes>"
      ]
     },
     "metadata": {},
     "output_type": "display_data"
    }
   ],
   "source": [
    "# data - letters\n",
    "images, labels = extract_training_samples('letters')\n",
    "t_images, t_labels = extract_test_samples('letters')\n",
    "\n",
    "reshapedImages = images.reshape( (images.shape[0], 28*28))\n",
    "t_reshapedImages = images.reshape( (images.shape[0], 28*28))\n",
    "\n",
    "labels_binary = to_categorical(labels - 1)\n",
    "\n",
    "\n",
    "show_char(images[1])\n",
    "show_char(t_images[1])"
   ]
  },
  {
   "cell_type": "code",
   "execution_count": 6,
   "metadata": {},
   "outputs": [],
   "source": [
    "X_train, X_test, y_train, y_test = train_test_split(\n",
    "    reshapedImages, \n",
    "    labels, \n",
    "    test_size=0.33, \n",
    "    random_state=42)"
   ]
  },
  {
   "cell_type": "code",
   "execution_count": 7,
   "metadata": {},
   "outputs": [
    {
     "name": "stdout",
     "output_type": "stream",
     "text": [
      "(83616, 784)\n",
      "(83616,)\n",
      "(41184, 784)\n",
      "(41184,)\n"
     ]
    }
   ],
   "source": [
    "print(X_train.shape)\n",
    "print(y_train.shape)\n",
    "print(X_test.shape)\n",
    "print(y_test.shape)"
   ]
  },
  {
   "cell_type": "markdown",
   "metadata": {},
   "source": [
    "## Models"
   ]
  },
  {
   "cell_type": "markdown",
   "metadata": {},
   "source": [
    "### Logistic Regression"
   ]
  },
  {
   "cell_type": "code",
   "execution_count": 9,
   "metadata": {},
   "outputs": [],
   "source": [
    "# log_reg = LogisticRegression(max_iter=10000)\n",
    "# log_reg.fit(X=X_train,y = y_train)\n",
    "# log_reg.score(X=X_test,y = y_test)"
   ]
  },
  {
   "cell_type": "markdown",
   "metadata": {},
   "source": [
    "### NN - Keras\n"
   ]
  },
  {
   "cell_type": "code",
   "execution_count": 12,
   "metadata": {
    "scrolled": false
   },
   "outputs": [
    {
     "name": "stdout",
     "output_type": "stream",
     "text": [
      "Epoch 1/20\n",
      "3120/3120 [==============================] - 24s 7ms/step - loss: 3.4744 - accuracy: 0.2325 - val_loss: 2.2162 - val_accuracy: 0.3325\n",
      "Epoch 2/20\n",
      "3120/3120 [==============================] - 22s 7ms/step - loss: 1.9175 - accuracy: 0.4142 - val_loss: 1.6764 - val_accuracy: 0.4866\n",
      "Epoch 3/20\n",
      "3120/3120 [==============================] - 24s 8ms/step - loss: 1.5763 - accuracy: 0.5203 - val_loss: 1.5338 - val_accuracy: 0.5304\n",
      "Epoch 4/20\n",
      "3120/3120 [==============================] - 23s 7ms/step - loss: 1.4604 - accuracy: 0.5555 - val_loss: 1.4865 - val_accuracy: 0.5542\n",
      "Epoch 5/20\n",
      "3120/3120 [==============================] - 22s 7ms/step - loss: 1.3995 - accuracy: 0.5794 - val_loss: 1.4465 - val_accuracy: 0.5581\n",
      "Epoch 6/20\n",
      "3120/3120 [==============================] - 22s 7ms/step - loss: 1.3627 - accuracy: 0.5932 - val_loss: 1.3910 - val_accuracy: 0.5877\n",
      "Epoch 7/20\n",
      "3120/3120 [==============================] - 22s 7ms/step - loss: 1.3243 - accuracy: 0.6075 - val_loss: 1.4194 - val_accuracy: 0.5920\n",
      "Epoch 8/20\n",
      "3120/3120 [==============================] - 22s 7ms/step - loss: 1.3084 - accuracy: 0.6165 - val_loss: 1.3381 - val_accuracy: 0.6114\n",
      "Epoch 9/20\n",
      "3120/3120 [==============================] - 22s 7ms/step - loss: 1.2982 - accuracy: 0.6204 - val_loss: 1.3730 - val_accuracy: 0.6153\n",
      "Epoch 10/20\n",
      "3120/3120 [==============================] - 23s 7ms/step - loss: 1.2851 - accuracy: 0.6260 - val_loss: 1.3302 - val_accuracy: 0.6230\n",
      "Epoch 11/20\n",
      "3120/3120 [==============================] - 22s 7ms/step - loss: 1.2753 - accuracy: 0.6298 - val_loss: 1.3636 - val_accuracy: 0.6221\n",
      "Epoch 12/20\n",
      "3120/3120 [==============================] - 22s 7ms/step - loss: 1.2668 - accuracy: 0.6323 - val_loss: 1.4404 - val_accuracy: 0.6029\n",
      "Epoch 13/20\n",
      "3120/3120 [==============================] - 22s 7ms/step - loss: 1.2560 - accuracy: 0.6367 - val_loss: 1.3460 - val_accuracy: 0.6256\n",
      "Epoch 14/20\n",
      "3120/3120 [==============================] - 22s 7ms/step - loss: 1.2566 - accuracy: 0.6378 - val_loss: 1.3472 - val_accuracy: 0.6375\n",
      "Epoch 15/20\n",
      "3120/3120 [==============================] - 22s 7ms/step - loss: 1.2442 - accuracy: 0.6417 - val_loss: 1.3889 - val_accuracy: 0.6324\n"
     ]
    },
    {
     "data": {
      "text/plain": [
       "<keras.callbacks.History at 0x22cee985750>"
      ]
     },
     "execution_count": 12,
     "metadata": {},
     "output_type": "execute_result"
    }
   ],
   "source": [
    "# model - letters\n",
    "n_cols = len(reshapedImages[1])\n",
    "\n",
    "nn = Sequential()\n",
    "nn.add(Dense(100, activation=\"relu\", input_shape = (n_cols,))) \n",
    "nn.add(Dense(26,activation=\"softmax\"))\n",
    "nn.compile(optimizer=\"adam\",\n",
    "              loss=\"categorical_crossentropy\",\n",
    "              metrics = [\"accuracy\"])\n",
    "\n",
    "early_stopping_monitor = EarlyStopping(patience = 5)\n",
    "\n",
    "run_functions_eagerly(False)\n",
    "nn.fit(reshapedImages,\n",
    "            labels_binary,\n",
    "            epochs=20,\n",
    "            validation_split=.2,\n",
    "            callbacks=[early_stopping_monitor])"
   ]
  },
  {
   "cell_type": "code",
   "execution_count": 13,
   "metadata": {},
   "outputs": [
    {
     "data": {
      "image/png": "[encoded data removed]",
      "text/plain": [
       "<Figure size 640x480 with 1 Axes>"
      ]
     },
     "metadata": {},
     "output_type": "display_data"
    },
    {
     "name": "stdout",
     "output_type": "stream",
     "text": [
      "Model: \"sequential_2\"\n",
      "_________________________________________________________________\n",
      " Layer (type)                Output Shape              Param #   \n",
      "=================================================================\n",
      " dense_6 (Dense)             (None, 100)               78500     \n",
      "                                                                 \n",
      " dense_7 (Dense)             (None, 26)                2626      \n",
      "                                                                 \n",
      "=================================================================\n",
      "Total params: 81,126\n",
      "Trainable params: 81,126\n",
      "Non-trainable params: 0\n",
      "_________________________________________________________________\n"
     ]
    }
   ],
   "source": [
    "plt.plot(nn.history.history['val_loss'], 'r')\n",
    "plt.plot(nn.history.history['accuracy'], 'b')\n",
    "plt.plot(nn.history.history['val_accuracy'], 'g')\n",
    "plt.show()\n",
    "nn.summary()"
   ]
  },
  {
   "cell_type": "code",
   "execution_count": 20,
   "metadata": {},
   "outputs": [
    {
     "data": {
      "text/plain": [
       "255"
      ]
     },
     "execution_count": 20,
     "metadata": {},
     "output_type": "execute_result"
    }
   ],
   "source": [
    "np.max(reshapedImages)"
   ]
  },
  {
   "cell_type": "code",
   "execution_count": 15,
   "metadata": {},
   "outputs": [],
   "source": [
    "nn.save('nn.h5')"
   ]
  },
  {
   "cell_type": "code",
   "execution_count": 16,
   "metadata": {},
   "outputs": [],
   "source": [
    "!tensorflowjs_converter --input_format keras nn.h5 nn"
   ]
  },
  {
   "cell_type": "code",
   "execution_count": 17,
   "metadata": {},
   "outputs": [
    {
     "name": "stdout",
     "output_type": "stream",
     "text": [
      "3900/3900 [==============================] - 19s 4ms/step\n",
      "['p']\n"
     ]
    },
    {
     "data": {
      "image/png": "[encoded data removed]",
      "text/plain": [
       "<Figure size 640x480 with 1 Axes>"
      ]
     },
     "metadata": {},
     "output_type": "display_data"
    },
    {
     "name": "stdout",
     "output_type": "stream",
     "text": [
      "['s']\n"
     ]
    },
    {
     "data": {
      "image/png": "[encoded data removed]",
      "text/plain": [
       "<Figure size 640x480 with 1 Axes>"
      ]
     },
     "metadata": {},
     "output_type": "display_data"
    },
    {
     "name": "stdout",
     "output_type": "stream",
     "text": [
      "['k']\n"
     ]
    },
    {
     "data": {
      "image/png": "[encoded data removed]",
      "text/plain": [
       "<Figure size 640x480 with 1 Axes>"
      ]
     },
     "metadata": {},
     "output_type": "display_data"
    },
    {
     "name": "stdout",
     "output_type": "stream",
     "text": [
      "['x']\n"
     ]
    },
    {
     "data": {
      "image/png": "[encoded data removed]",
      "text/plain": [
       "<Figure size 640x480 with 1 Axes>"
      ]
     },
     "metadata": {},
     "output_type": "display_data"
    },
    {
     "name": "stdout",
     "output_type": "stream",
     "text": [
      "['t']\n"
     ]
    },
    {
     "data": {
      "image/png": "[encoded data removed]",
      "text/plain": [
       "<Figure size 640x480 with 1 Axes>"
      ]
     },
     "metadata": {},
     "output_type": "display_data"
    },
    {
     "name": "stdout",
     "output_type": "stream",
     "text": [
      "['o']\n"
     ]
    },
    {
     "data": {
      "image/png": "[encoded data removed]",
      "text/plain": [
       "<Figure size 640x480 with 1 Axes>"
      ]
     },
     "metadata": {},
     "output_type": "display_data"
    },
    {
     "name": "stdout",
     "output_type": "stream",
     "text": [
      "['y']\n"
     ]
    },
    {
     "data": {
      "image/png": "[encoded data removed]",
      "text/plain": [
       "<Figure size 640x480 with 1 Axes>"
      ]
     },
     "metadata": {},
     "output_type": "display_data"
    },
    {
     "name": "stdout",
     "output_type": "stream",
     "text": [
      "['q']\n"
     ]
    },
    {
     "data": {
      "image/png": "[encoded data removed]",
      "text/plain": [
       "<Figure size 640x480 with 1 Axes>"
      ]
     },
     "metadata": {},
     "output_type": "display_data"
    },
    {
     "name": "stdout",
     "output_type": "stream",
     "text": [
      "['a']\n"
     ]
    },
    {
     "data": {
      "image/png": "[encoded data removed]",
      "text/plain": [
       "<Figure size 640x480 with 1 Axes>"
      ]
     },
     "metadata": {},
     "output_type": "display_data"
    },
    {
     "name": "stdout",
     "output_type": "stream",
     "text": [
      "['r']\n"
     ]
    },
    {
     "data": {
      "image/png": "[encoded data removed]",
      "text/plain": [
       "<Figure size 640x480 with 1 Axes>"
      ]
     },
     "metadata": {},
     "output_type": "display_data"
    }
   ],
   "source": [
    "pred = nn.predict(t_reshapedImages)\n",
    "\n",
    "for i in np.random.randint(low=1,high=20800,size=10):\n",
    "    print(alph_res(pred[i]))\n",
    "    show_char(t_images[i])"
   ]
  },
  {
   "cell_type": "markdown",
   "metadata": {},
   "source": [
    "### Decision Tree"
   ]
  },
  {
   "cell_type": "code",
   "execution_count": null,
   "metadata": {},
   "outputs": [],
   "source": [
    "dec_tree = DecisionTreeClassifier(max_depth=10)\n",
    "dec_tree.fit(X=X_train,y = y_train)\n",
    "dec_tree.score(X=X_test,y = y_test)"
   ]
  },
  {
   "cell_type": "markdown",
   "metadata": {},
   "source": [
    "### Random Forest"
   ]
  },
  {
   "cell_type": "code",
   "execution_count": null,
   "metadata": {},
   "outputs": [],
   "source": [
    "rf = RandomForestClassifier(max_depth=10)\n",
    "rf.fit(X=X_train,y = y_train)\n",
    "rf.score(X=X_test,y = y_test)"
   ]
  },
  {
   "cell_type": "markdown",
   "metadata": {},
   "source": [
    "### MLP - SKLearn"
   ]
  },
  {
   "cell_type": "code",
   "execution_count": null,
   "metadata": {},
   "outputs": [],
   "source": [
    "mlp = MLPClassifier()\n",
    "mlp.fit(X_train, y_train)\n",
    "mlp.score(X_test, y_test)"
   ]
  },
  {
   "cell_type": "markdown",
   "metadata": {},
   "source": [
    "### CNN - Keras"
   ]
  },
  {
   "cell_type": "code",
   "execution_count": 30,
   "metadata": {},
   "outputs": [
    {
     "name": "stderr",
     "output_type": "stream",
     "text": [
      "c:\\Users\\claudio.paladini\\anaconda3\\lib\\site-packages\\tensorflow\\python\\data\\ops\\structured_function.py:256: UserWarning: Even though the `tf.config.experimental_run_functions_eagerly` option is set, this option does not apply to tf.data functions. To force eager execution of tf.data functions, please use `tf.data.experimental.enable_debug_mode()`.\n",
      "  warnings.warn(\n"
     ]
    },
    {
     "name": "stdout",
     "output_type": "stream",
     "text": [
      "Epoch 1/100\n",
      "3120/3120 [==============================] - 890s 284ms/step - loss: 1.2548 - accuracy: 0.8328 - val_loss: 0.3546 - val_accuracy: 0.8908\n",
      "Epoch 2/100\n",
      "3120/3120 [==============================] - 794s 255ms/step - loss: 0.2928 - accuracy: 0.9050 - val_loss: 0.3343 - val_accuracy: 0.8986\n",
      "Epoch 3/100\n",
      "3120/3120 [==============================] - 670s 215ms/step - loss: 0.2365 - accuracy: 0.9199 - val_loss: 0.3276 - val_accuracy: 0.9053\n",
      "Epoch 4/100\n",
      "3120/3120 [==============================] - 722s 231ms/step - loss: 0.1852 - accuracy: 0.9352 - val_loss: 0.3748 - val_accuracy: 0.9003\n",
      "Epoch 5/100\n",
      "3120/3120 [==============================] - 805s 258ms/step - loss: 0.1502 - accuracy: 0.9464 - val_loss: 0.4280 - val_accuracy: 0.9042\n",
      "Epoch 6/100\n",
      "3120/3120 [==============================] - 821s 263ms/step - loss: 0.1282 - accuracy: 0.9545 - val_loss: 0.5745 - val_accuracy: 0.8905\n",
      "Epoch 7/100\n",
      "3120/3120 [==============================] - 691s 221ms/step - loss: 0.1169 - accuracy: 0.9595 - val_loss: 0.5584 - val_accuracy: 0.8989\n",
      "Epoch 8/100\n",
      "3120/3120 [==============================] - 687s 220ms/step - loss: 0.1054 - accuracy: 0.9639 - val_loss: 0.6840 - val_accuracy: 0.8935\n"
     ]
    }
   ],
   "source": [
    "cnn = Sequential()\n",
    "cnn.add(Conv2D(50, kernel_size=(3, 3),activation='relu',input_shape=(28,28,1),padding='same'))\n",
    "cnn.add(MaxPooling2D((2, 2),padding='same'))\n",
    "# cnn.add(Conv2D(10, kernel_size=(2, 2),activation='relu',padding='same'))\n",
    "cnn.add(Flatten())\n",
    "cnn.add(Dense(1000, activation='relu'))         \n",
    "cnn.add(Dense(26,activation=\"softmax\"))\n",
    "cnn.compile(optimizer=\"adam\",\n",
    "              loss=\"categorical_crossentropy\",\n",
    "              metrics = [\"accuracy\"])\n",
    "\n",
    "conv_images = images.reshape(-1, 28,28, 1).astype('float32')\n",
    "\n",
    "run_functions_eagerly(True)\n",
    "\n",
    "cnn.fit(conv_images,\n",
    "            labels_binary,\n",
    "            epochs=100,\n",
    "            validation_split=.2,\n",
    "            callbacks=[early_stopping_monitor])\n",
    "\n",
    "\n",
    "run_functions_eagerly(False)"
   ]
  },
  {
   "cell_type": "code",
   "execution_count": 31,
   "metadata": {},
   "outputs": [
    {
     "name": "stdout",
     "output_type": "stream",
     "text": [
      "650/650 [==============================] - 10s 15ms/step\n",
      "['y']\n"
     ]
    },
    {
     "data": {
      "image/png": "[encoded data removed]",
      "text/plain": [
       "<Figure size 432x288 with 1 Axes>"
      ]
     },
     "metadata": {
      "needs_background": "light"
     },
     "output_type": "display_data"
    },
    {
     "name": "stdout",
     "output_type": "stream",
     "text": [
      "['c']\n"
     ]
    },
    {
     "data": {
      "image/png": "[encoded data removed]",
      "text/plain": [
       "<Figure size 432x288 with 1 Axes>"
      ]
     },
     "metadata": {
      "needs_background": "light"
     },
     "output_type": "display_data"
    },
    {
     "name": "stdout",
     "output_type": "stream",
     "text": [
      "['p']\n"
     ]
    },
    {
     "data": {
      "image/png": "[encoded data removed]",
      "text/plain": [
       "<Figure size 432x288 with 1 Axes>"
      ]
     },
     "metadata": {
      "needs_background": "light"
     },
     "output_type": "display_data"
    },
    {
     "name": "stdout",
     "output_type": "stream",
     "text": [
      "['p']\n"
     ]
    },
    {
     "data": {
      "image/png": "[encoded data removed]",
      "text/plain": [
       "<Figure size 432x288 with 1 Axes>"
      ]
     },
     "metadata": {
      "needs_background": "light"
     },
     "output_type": "display_data"
    },
    {
     "name": "stdout",
     "output_type": "stream",
     "text": [
      "['c']\n"
     ]
    },
    {
     "data": {
      "image/png": "[encoded data removed]",
      "text/plain": [
       "<Figure size 432x288 with 1 Axes>"
      ]
     },
     "metadata": {
      "needs_background": "light"
     },
     "output_type": "display_data"
    },
    {
     "name": "stdout",
     "output_type": "stream",
     "text": [
      "['l']\n"
     ]
    },
    {
     "data": {
      "image/png": "[encoded data removed]",
      "text/plain": [
       "<Figure size 432x288 with 1 Axes>"
      ]
     },
     "metadata": {
      "needs_background": "light"
     },
     "output_type": "display_data"
    },
    {
     "name": "stdout",
     "output_type": "stream",
     "text": [
      "['j']\n"
     ]
    },
    {
     "data": {
      "image/png": "[encoded data removed]",
      "text/plain": [
       "<Figure size 432x288 with 1 Axes>"
      ]
     },
     "metadata": {
      "needs_background": "light"
     },
     "output_type": "display_data"
    },
    {
     "name": "stdout",
     "output_type": "stream",
     "text": [
      "['v']\n"
     ]
    },
    {
     "data": {
      "image/png": "[encoded data removed]",
      "text/plain": [
       "<Figure size 432x288 with 1 Axes>"
      ]
     },
     "metadata": {
      "needs_background": "light"
     },
     "output_type": "display_data"
    },
    {
     "name": "stdout",
     "output_type": "stream",
     "text": [
      "['x']\n"
     ]
    },
    {
     "data": {
      "image/png": "[encoded data removed]",
      "text/plain": [
       "<Figure size 432x288 with 1 Axes>"
      ]
     },
     "metadata": {
      "needs_background": "light"
     },
     "output_type": "display_data"
    },
    {
     "name": "stdout",
     "output_type": "stream",
     "text": [
      "['q']\n"
     ]
    },
    {
     "data": {
      "image/png": "[encoded data removed]",
      "text/plain": [
       "<Figure size 432x288 with 1 Axes>"
      ]
     },
     "metadata": {
      "needs_background": "light"
     },
     "output_type": "display_data"
    }
   ],
   "source": [
    "conv_test = t_images.reshape(-1, 28,28, 1).astype('float32')\n",
    "conv_pred = cnn.predict(conv_test)\n",
    "\n",
    "for i in np.random.randint(low=1,high=20800,size=10):\n",
    "    print(alph_res(conv_pred[i]))\n",
    "    show_char(t_images[i])"
   ]
  },
  {
   "cell_type": "code",
   "execution_count": 32,
   "metadata": {},
   "outputs": [],
   "source": [
    "cnn.save('../static/models/conv_model.h5',overwrite=True)"
   ]
  },
  {
   "cell_type": "markdown",
   "metadata": {},
   "source": [
    "## Tests"
   ]
  },
  {
   "cell_type": "code",
   "execution_count": 49,
   "metadata": {},
   "outputs": [],
   "source": [
    "from keras.models import load_model\n",
    "from sklearn.metrics import confusion_matrix\n",
    "import seaborn as sns\n",
    "import plotly.express as px"
   ]
  },
  {
   "cell_type": "code",
   "execution_count": 2,
   "metadata": {},
   "outputs": [],
   "source": [
    "# load model\n",
    "cnn = load_model(\"../static/models/conv_model.h5\")"
   ]
  },
  {
   "cell_type": "code",
   "execution_count": 11,
   "metadata": {},
   "outputs": [
    {
     "name": "stdout",
     "output_type": "stream",
     "text": [
      "650/650 [==============================] - 9s 14ms/step\n"
     ]
    }
   ],
   "source": [
    "# generate predictions\n",
    "conv_test = t_images.reshape(-1, 28,28, 1).astype('float32')\n",
    "conv_pred = cnn.predict(conv_test)\n",
    "\n",
    "y_true = [alphabet[i-1] for i in t_labels]\n",
    "y_pred = [alph_res(x) for x in conv_pred]"
   ]
  },
  {
   "cell_type": "code",
   "execution_count": 62,
   "metadata": {},
   "outputs": [
    {
     "data": {
      "text/plain": [
       "<AxesSubplot:>"
      ]
     },
     "execution_count": 62,
     "metadata": {},
     "output_type": "execute_result"
    },
    {
     "data": {
      "image/png": "[encoded data removed]",
      "text/plain": [
       "<Figure size 432x288 with 2 Axes>"
      ]
     },
     "metadata": {
      "needs_background": "light"
     },
     "output_type": "display_data"
    }
   ],
   "source": [
    "# confusion matrix\n",
    "cm = confusion_matrix(\n",
    "    y_pred=y_pred,\n",
    "    y_true=y_true)\n",
    "\n",
    "cm = pd.DataFrame(cm)\n",
    "cm.columns = alphabet\n",
    "cm.index = alphabet\n",
    "\n",
    "sns.heatmap(cm)"
   ]
  },
  {
   "cell_type": "code",
   "execution_count": 63,
   "metadata": {},
   "outputs": [
    {
     "data": {
      "application/vnd.plotly.v1+json": {
       "config": {
        "plotlyServerURL": "https://plot.ly"
       },
       "data": [
        {
         "hovertemplate": "index=%{x}<br>variable=%{y}<br>value=%{marker.size}<extra></extra>",
         "legendgroup": "",
         "marker": {
          "color": "#636efa",
          "size": [
           717,
           2,
           5,
           9,
           12,
           4,
           18,
           9,
           0,
           0,
           2,
           0,
           2,
           18,
           3,
           0,
           34,
           8,
           3,
           3,
           2,
           0,
           0,
           1,
           0,
           3,
           5,
           771,
           1,
           7,
           8,
           3,
           19,
           25,
           1,
           4,
           5,
           5,
           0,
           0,
           4,
           0,
           5,
           10,
           4,
           3,
           1,
           0,
           1,
           0,
           0,
           4,
           4,
           0,
           749,
           2,
           31,
           3,
           13,
           1,
           1,
           0,
           0,
           11,
           0,
           0,
           4,
           0,
           1,
           3,
           0,
           2,
           1,
           0,
           0,
           0,
           0,
           1,
           9,
           3,
           1,
           717,
           1,
           2,
           6,
           4,
           2,
           11,
           1,
           5,
           0,
           5,
           6,
           4,
           2,
           0,
           0,
           3,
           1,
           0,
           1,
           2,
           3,
           1,
           6,
           1,
           21,
           0,
           718,
           2,
           3,
           0,
           1,
           3,
           2,
           0,
           0,
           0,
           0,
           1,
           2,
           1,
           1,
           4,
           0,
           0,
           0,
           0,
           0,
           3,
           2,
           0,
           0,
           0,
           1,
           698,
           2,
           0,
           0,
           1,
           0,
           0,
           0,
           0,
           0,
           4,
           2,
           1,
           1,
           8,
           0,
           0,
           0,
           0,
           0,
           3,
           4,
           7,
           2,
           2,
           3,
           12,
           637,
           0,
           1,
           8,
           0,
           1,
           0,
           0,
           2,
           0,
           152,
           1,
           12,
           1,
           0,
           0,
           0,
           0,
           5,
           4,
           2,
           2,
           0,
           0,
           0,
           1,
           1,
           682,
           3,
           1,
           6,
           4,
           6,
           6,
           0,
           0,
           0,
           0,
           0,
           0,
           2,
           0,
           2,
           3,
           1,
           0,
           0,
           0,
           0,
           2,
           3,
           0,
           0,
           1,
           585,
           13,
           1,
           209,
           0,
           0,
           1,
           1,
           1,
           2,
           1,
           0,
           0,
           1,
           0,
           1,
           0,
           1,
           0,
           0,
           0,
           7,
           0,
           2,
           4,
           0,
           18,
           731,
           0,
           3,
           0,
           1,
           0,
           1,
           1,
           0,
           11,
           4,
           3,
           2,
           2,
           1,
           4,
           2,
           1,
           0,
           0,
           0,
           4,
           1,
           0,
           29,
           0,
           0,
           756,
           3,
           3,
           2,
           0,
           1,
           0,
           11,
           0,
           3,
           2,
           2,
           0,
           21,
           2,
           0,
           0,
           3,
           4,
           0,
           1,
           0,
           1,
           6,
           173,
           2,
           5,
           540,
           0,
           0,
           0,
           0,
           1,
           1,
           0,
           2,
           1,
           0,
           0,
           0,
           1,
           0,
           0,
           0,
           0,
           0,
           0,
           0,
           0,
           2,
           0,
           0,
           0,
           0,
           751,
           12,
           0,
           0,
           0,
           1,
           0,
           0,
           2,
           1,
           3,
           2,
           0,
           0,
           2,
           2,
           0,
           3,
           0,
           0,
           1,
           24,
           0,
           0,
           2,
           0,
           28,
           725,
           1,
           1,
           1,
           3,
           1,
           1,
           5,
           5,
           24,
           0,
           2,
           2,
           8,
           2,
           3,
           39,
           4,
           0,
           3,
           0,
           1,
           0,
           0,
           1,
           0,
           1,
           769,
           1,
           9,
           0,
           2,
           1,
           3,
           1,
           1,
           0,
           0,
           0,
           3,
           2,
           1,
           6,
           2,
           19,
           1,
           0,
           1,
           0,
           0,
           0,
           0,
           1,
           1,
           765,
           4,
           5,
           0,
           2,
           0,
           2,
           0,
           0,
           0,
           1,
           17,
           0,
           0,
           2,
           0,
           3,
           74,
           0,
           0,
           0,
           0,
           3,
           0,
           0,
           2,
           3,
           574,
           3,
           4,
           1,
           0,
           0,
           0,
           0,
           2,
           4,
           5,
           1,
           4,
           0,
           6,
           9,
           1,
           0,
           1,
           0,
           6,
           4,
           1,
           5,
           0,
           11,
           2,
           706,
           0,
           2,
           0,
           11,
           0,
           0,
           3,
           1,
           0,
           0,
           2,
           0,
           0,
           7,
           6,
           0,
           0,
           9,
           0,
           0,
           0,
           0,
           0,
           1,
           1,
           1,
           760,
           0,
           1,
           0,
           0,
           0,
           2,
           0,
           0,
           1,
           2,
           1,
           1,
           31,
           0,
           1,
           2,
           10,
           3,
           0,
           1,
           1,
           0,
           3,
           1,
           12,
           0,
           749,
           0,
           2,
           0,
           3,
           3,
           4,
           6,
           0,
           4,
           1,
           4,
           0,
           3,
           8,
           0,
           0,
           1,
           5,
           2,
           4,
           6,
           0,
           1,
           1,
           0,
           0,
           736,
           33,
           3,
           2,
           2,
           0,
           0,
           0,
           0,
           1,
           0,
           0,
           0,
           0,
           2,
           2,
           0,
           0,
           0,
           8,
           1,
           0,
           0,
           23,
           0,
           0,
           37,
           724,
           4,
           3,
           21,
           0,
           1,
           0,
           0,
           0,
           0,
           0,
           0,
           2,
           0,
           0,
           0,
           0,
           6,
           8,
           0,
           0,
           2,
           0,
           0,
           0,
           3,
           2,
           757,
           0,
           2,
           0,
           3,
           0,
           0,
           1,
           0,
           0,
           0,
           3,
           3,
           0,
           8,
           2,
           0,
           3,
           0,
           0,
           0,
           1,
           0,
           2,
           0,
           0,
           0,
           747,
           12,
           5,
           0,
           0,
           0,
           0,
           0,
           3,
           4,
           3,
           0,
           2,
           2,
           4,
           0,
           0,
           0,
           3,
           2,
           6,
           0,
           5,
           0,
           14,
           2,
           13,
           735,
           0,
           5,
           3,
           1,
           0,
           1,
           0,
           3,
           0,
           5,
           3,
           0,
           0,
           0,
           0,
           0,
           0,
           2,
           0,
           0,
           4,
           0,
           0,
           0,
           1,
           0,
           761
          ],
          "sizemode": "area",
          "sizeref": 1.9275,
          "symbol": "circle"
         },
         "mode": "markers",
         "name": "",
         "orientation": "v",
         "showlegend": false,
         "type": "scatter",
         "x": [
          "a",
          "b",
          "c",
          "d",
          "e",
          "f",
          "g",
          "h",
          "i",
          "j",
          "k",
          "l",
          "m",
          "n",
          "o",
          "p",
          "q",
          "r",
          "s",
          "t",
          "u",
          "v",
          "w",
          "x",
          "y",
          "z",
          "a",
          "b",
          "c",
          "d",
          "e",
          "f",
          "g",
          "h",
          "i",
          "j",
          "k",
          "l",
          "m",
          "n",
          "o",
          "p",
          "q",
          "r",
          "s",
          "t",
          "u",
          "v",
          "w",
          "x",
          "y",
          "z",
          "a",
          "b",
          "c",
          "d",
          "e",
          "f",
          "g",
          "h",
          "i",
          "j",
          "k",
          "l",
          "m",
          "n",
          "o",
          "p",
          "q",
          "r",
          "s",
          "t",
          "u",
          "v",
          "w",
          "x",
          "y",
          "z",
          "a",
          "b",
          "c",
          "d",
          "e",
          "f",
          "g",
          "h",
          "i",
          "j",
          "k",
          "l",
          "m",
          "n",
          "o",
          "p",
          "q",
          "r",
          "s",
          "t",
          "u",
          "v",
          "w",
          "x",
          "y",
          "z",
          "a",
          "b",
          "c",
          "d",
          "e",
          "f",
          "g",
          "h",
          "i",
          "j",
          "k",
          "l",
          "m",
          "n",
          "o",
          "p",
          "q",
          "r",
          "s",
          "t",
          "u",
          "v",
          "w",
          "x",
          "y",
          "z",
          "a",
          "b",
          "c",
          "d",
          "e",
          "f",
          "g",
          "h",
          "i",
          "j",
          "k",
          "l",
          "m",
          "n",
          "o",
          "p",
          "q",
          "r",
          "s",
          "t",
          "u",
          "v",
          "w",
          "x",
          "y",
          "z",
          "a",
          "b",
          "c",
          "d",
          "e",
          "f",
          "g",
          "h",
          "i",
          "j",
          "k",
          "l",
          "m",
          "n",
          "o",
          "p",
          "q",
          "r",
          "s",
          "t",
          "u",
          "v",
          "w",
          "x",
          "y",
          "z",
          "a",
          "b",
          "c",
          "d",
          "e",
          "f",
          "g",
          "h",
          "i",
          "j",
          "k",
          "l",
          "m",
          "n",
          "o",
          "p",
          "q",
          "r",
          "s",
          "t",
          "u",
          "v",
          "w",
          "x",
          "y",
          "z",
          "a",
          "b",
          "c",
          "d",
          "e",
          "f",
          "g",
          "h",
          "i",
          "j",
          "k",
          "l",
          "m",
          "n",
          "o",
          "p",
          "q",
          "r",
          "s",
          "t",
          "u",
          "v",
          "w",
          "x",
          "y",
          "z",
          "a",
          "b",
          "c",
          "d",
          "e",
          "f",
          "g",
          "h",
          "i",
          "j",
          "k",
          "l",
          "m",
          "n",
          "o",
          "p",
          "q",
          "r",
          "s",
          "t",
          "u",
          "v",
          "w",
          "x",
          "y",
          "z",
          "a",
          "b",
          "c",
          "d",
          "e",
          "f",
          "g",
          "h",
          "i",
          "j",
          "k",
          "l",
          "m",
          "n",
          "o",
          "p",
          "q",
          "r",
          "s",
          "t",
          "u",
          "v",
          "w",
          "x",
          "y",
          "z",
          "a",
          "b",
          "c",
          "d",
          "e",
          "f",
          "g",
          "h",
          "i",
          "j",
          "k",
          "l",
          "m",
          "n",
          "o",
          "p",
          "q",
          "r",
          "s",
          "t",
          "u",
          "v",
          "w",
          "x",
          "y",
          "z",
          "a",
          "b",
          "c",
          "d",
          "e",
          "f",
          "g",
          "h",
          "i",
          "j",
          "k",
          "l",
          "m",
          "n",
          "o",
          "p",
          "q",
          "r",
          "s",
          "t",
          "u",
          "v",
          "w",
          "x",
          "y",
          "z",
          "a",
          "b",
          "c",
          "d",
          "e",
          "f",
          "g",
          "h",
          "i",
          "j",
          "k",
          "l",
          "m",
          "n",
          "o",
          "p",
          "q",
          "r",
          "s",
          "t",
          "u",
          "v",
          "w",
          "x",
          "y",
          "z",
          "a",
          "b",
          "c",
          "d",
          "e",
          "f",
          "g",
          "h",
          "i",
          "j",
          "k",
          "l",
          "m",
          "n",
          "o",
          "p",
          "q",
          "r",
          "s",
          "t",
          "u",
          "v",
          "w",
          "x",
          "y",
          "z",
          "a",
          "b",
          "c",
          "d",
          "e",
          "f",
          "g",
          "h",
          "i",
          "j",
          "k",
          "l",
          "m",
          "n",
          "o",
          "p",
          "q",
          "r",
          "s",
          "t",
          "u",
          "v",
          "w",
          "x",
          "y",
          "z",
          "a",
          "b",
          "c",
          "d",
          "e",
          "f",
          "g",
          "h",
          "i",
          "j",
          "k",
          "l",
          "m",
          "n",
          "o",
          "p",
          "q",
          "r",
          "s",
          "t",
          "u",
          "v",
          "w",
          "x",
          "y",
          "z",
          "a",
          "b",
          "c",
          "d",
          "e",
          "f",
          "g",
          "h",
          "i",
          "j",
          "k",
          "l",
          "m",
          "n",
          "o",
          "p",
          "q",
          "r",
          "s",
          "t",
          "u",
          "v",
          "w",
          "x",
          "y",
          "z",
          "a",
          "b",
          "c",
          "d",
          "e",
          "f",
          "g",
          "h",
          "i",
          "j",
          "k",
          "l",
          "m",
          "n",
          "o",
          "p",
          "q",
          "r",
          "s",
          "t",
          "u",
          "v",
          "w",
          "x",
          "y",
          "z",
          "a",
          "b",
          "c",
          "d",
          "e",
          "f",
          "g",
          "h",
          "i",
          "j",
          "k",
          "l",
          "m",
          "n",
          "o",
          "p",
          "q",
          "r",
          "s",
          "t",
          "u",
          "v",
          "w",
          "x",
          "y",
          "z",
          "a",
          "b",
          "c",
          "d",
          "e",
          "f",
          "g",
          "h",
          "i",
          "j",
          "k",
          "l",
          "m",
          "n",
          "o",
          "p",
          "q",
          "r",
          "s",
          "t",
          "u",
          "v",
          "w",
          "x",
          "y",
          "z",
          "a",
          "b",
          "c",
          "d",
          "e",
          "f",
          "g",
          "h",
          "i",
          "j",
          "k",
          "l",
          "m",
          "n",
          "o",
          "p",
          "q",
          "r",
          "s",
          "t",
          "u",
          "v",
          "w",
          "x",
          "y",
          "z",
          "a",
          "b",
          "c",
          "d",
          "e",
          "f",
          "g",
          "h",
          "i",
          "j",
          "k",
          "l",
          "m",
          "n",
          "o",
          "p",
          "q",
          "r",
          "s",
          "t",
          "u",
          "v",
          "w",
          "x",
          "y",
          "z",
          "a",
          "b",
          "c",
          "d",
          "e",
          "f",
          "g",
          "h",
          "i",
          "j",
          "k",
          "l",
          "m",
          "n",
          "o",
          "p",
          "q",
          "r",
          "s",
          "t",
          "u",
          "v",
          "w",
          "x",
          "y",
          "z",
          "a",
          "b",
          "c",
          "d",
          "e",
          "f",
          "g",
          "h",
          "i",
          "j",
          "k",
          "l",
          "m",
          "n",
          "o",
          "p",
          "q",
          "r",
          "s",
          "t",
          "u",
          "v",
          "w",
          "x",
          "y",
          "z",
          "a",
          "b",
          "c",
          "d",
          "e",
          "f",
          "g",
          "h",
          "i",
          "j",
          "k",
          "l",
          "m",
          "n",
          "o",
          "p",
          "q",
          "r",
          "s",
          "t",
          "u",
          "v",
          "w",
          "x",
          "y",
          "z"
         ],
         "xaxis": "x",
         "y": [
          "a",
          "a",
          "a",
          "a",
          "a",
          "a",
          "a",
          "a",
          "a",
          "a",
          "a",
          "a",
          "a",
          "a",
          "a",
          "a",
          "a",
          "a",
          "a",
          "a",
          "a",
          "a",
          "a",
          "a",
          "a",
          "a",
          "b",
          "b",
          "b",
          "b",
          "b",
          "b",
          "b",
          "b",
          "b",
          "b",
          "b",
          "b",
          "b",
          "b",
          "b",
          "b",
          "b",
          "b",
          "b",
          "b",
          "b",
          "b",
          "b",
          "b",
          "b",
          "b",
          "c",
          "c",
          "c",
          "c",
          "c",
          "c",
          "c",
          "c",
          "c",
          "c",
          "c",
          "c",
          "c",
          "c",
          "c",
          "c",
          "c",
          "c",
          "c",
          "c",
          "c",
          "c",
          "c",
          "c",
          "c",
          "c",
          "d",
          "d",
          "d",
          "d",
          "d",
          "d",
          "d",
          "d",
          "d",
          "d",
          "d",
          "d",
          "d",
          "d",
          "d",
          "d",
          "d",
          "d",
          "d",
          "d",
          "d",
          "d",
          "d",
          "d",
          "d",
          "d",
          "e",
          "e",
          "e",
          "e",
          "e",
          "e",
          "e",
          "e",
          "e",
          "e",
          "e",
          "e",
          "e",
          "e",
          "e",
          "e",
          "e",
          "e",
          "e",
          "e",
          "e",
          "e",
          "e",
          "e",
          "e",
          "e",
          "f",
          "f",
          "f",
          "f",
          "f",
          "f",
          "f",
          "f",
          "f",
          "f",
          "f",
          "f",
          "f",
          "f",
          "f",
          "f",
          "f",
          "f",
          "f",
          "f",
          "f",
          "f",
          "f",
          "f",
          "f",
          "f",
          "g",
          "g",
          "g",
          "g",
          "g",
          "g",
          "g",
          "g",
          "g",
          "g",
          "g",
          "g",
          "g",
          "g",
          "g",
          "g",
          "g",
          "g",
          "g",
          "g",
          "g",
          "g",
          "g",
          "g",
          "g",
          "g",
          "h",
          "h",
          "h",
          "h",
          "h",
          "h",
          "h",
          "h",
          "h",
          "h",
          "h",
          "h",
          "h",
          "h",
          "h",
          "h",
          "h",
          "h",
          "h",
          "h",
          "h",
          "h",
          "h",
          "h",
          "h",
          "h",
          "i",
          "i",
          "i",
          "i",
          "i",
          "i",
          "i",
          "i",
          "i",
          "i",
          "i",
          "i",
          "i",
          "i",
          "i",
          "i",
          "i",
          "i",
          "i",
          "i",
          "i",
          "i",
          "i",
          "i",
          "i",
          "i",
          "j",
          "j",
          "j",
          "j",
          "j",
          "j",
          "j",
          "j",
          "j",
          "j",
          "j",
          "j",
          "j",
          "j",
          "j",
          "j",
          "j",
          "j",
          "j",
          "j",
          "j",
          "j",
          "j",
          "j",
          "j",
          "j",
          "k",
          "k",
          "k",
          "k",
          "k",
          "k",
          "k",
          "k",
          "k",
          "k",
          "k",
          "k",
          "k",
          "k",
          "k",
          "k",
          "k",
          "k",
          "k",
          "k",
          "k",
          "k",
          "k",
          "k",
          "k",
          "k",
          "l",
          "l",
          "l",
          "l",
          "l",
          "l",
          "l",
          "l",
          "l",
          "l",
          "l",
          "l",
          "l",
          "l",
          "l",
          "l",
          "l",
          "l",
          "l",
          "l",
          "l",
          "l",
          "l",
          "l",
          "l",
          "l",
          "m",
          "m",
          "m",
          "m",
          "m",
          "m",
          "m",
          "m",
          "m",
          "m",
          "m",
          "m",
          "m",
          "m",
          "m",
          "m",
          "m",
          "m",
          "m",
          "m",
          "m",
          "m",
          "m",
          "m",
          "m",
          "m",
          "n",
          "n",
          "n",
          "n",
          "n",
          "n",
          "n",
          "n",
          "n",
          "n",
          "n",
          "n",
          "n",
          "n",
          "n",
          "n",
          "n",
          "n",
          "n",
          "n",
          "n",
          "n",
          "n",
          "n",
          "n",
          "n",
          "o",
          "o",
          "o",
          "o",
          "o",
          "o",
          "o",
          "o",
          "o",
          "o",
          "o",
          "o",
          "o",
          "o",
          "o",
          "o",
          "o",
          "o",
          "o",
          "o",
          "o",
          "o",
          "o",
          "o",
          "o",
          "o",
          "p",
          "p",
          "p",
          "p",
          "p",
          "p",
          "p",
          "p",
          "p",
          "p",
          "p",
          "p",
          "p",
          "p",
          "p",
          "p",
          "p",
          "p",
          "p",
          "p",
          "p",
          "p",
          "p",
          "p",
          "p",
          "p",
          "q",
          "q",
          "q",
          "q",
          "q",
          "q",
          "q",
          "q",
          "q",
          "q",
          "q",
          "q",
          "q",
          "q",
          "q",
          "q",
          "q",
          "q",
          "q",
          "q",
          "q",
          "q",
          "q",
          "q",
          "q",
          "q",
          "r",
          "r",
          "r",
          "r",
          "r",
          "r",
          "r",
          "r",
          "r",
          "r",
          "r",
          "r",
          "r",
          "r",
          "r",
          "r",
          "r",
          "r",
          "r",
          "r",
          "r",
          "r",
          "r",
          "r",
          "r",
          "r",
          "s",
          "s",
          "s",
          "s",
          "s",
          "s",
          "s",
          "s",
          "s",
          "s",
          "s",
          "s",
          "s",
          "s",
          "s",
          "s",
          "s",
          "s",
          "s",
          "s",
          "s",
          "s",
          "s",
          "s",
          "s",
          "s",
          "t",
          "t",
          "t",
          "t",
          "t",
          "t",
          "t",
          "t",
          "t",
          "t",
          "t",
          "t",
          "t",
          "t",
          "t",
          "t",
          "t",
          "t",
          "t",
          "t",
          "t",
          "t",
          "t",
          "t",
          "t",
          "t",
          "u",
          "u",
          "u",
          "u",
          "u",
          "u",
          "u",
          "u",
          "u",
          "u",
          "u",
          "u",
          "u",
          "u",
          "u",
          "u",
          "u",
          "u",
          "u",
          "u",
          "u",
          "u",
          "u",
          "u",
          "u",
          "u",
          "v",
          "v",
          "v",
          "v",
          "v",
          "v",
          "v",
          "v",
          "v",
          "v",
          "v",
          "v",
          "v",
          "v",
          "v",
          "v",
          "v",
          "v",
          "v",
          "v",
          "v",
          "v",
          "v",
          "v",
          "v",
          "v",
          "w",
          "w",
          "w",
          "w",
          "w",
          "w",
          "w",
          "w",
          "w",
          "w",
          "w",
          "w",
          "w",
          "w",
          "w",
          "w",
          "w",
          "w",
          "w",
          "w",
          "w",
          "w",
          "w",
          "w",
          "w",
          "w",
          "x",
          "x",
          "x",
          "x",
          "x",
          "x",
          "x",
          "x",
          "x",
          "x",
          "x",
          "x",
          "x",
          "x",
          "x",
          "x",
          "x",
          "x",
          "x",
          "x",
          "x",
          "x",
          "x",
          "x",
          "x",
          "x",
          "y",
          "y",
          "y",
          "y",
          "y",
          "y",
          "y",
          "y",
          "y",
          "y",
          "y",
          "y",
          "y",
          "y",
          "y",
          "y",
          "y",
          "y",
          "y",
          "y",
          "y",
          "y",
          "y",
          "y",
          "y",
          "y",
          "z",
          "z",
          "z",
          "z",
          "z",
          "z",
          "z",
          "z",
          "z",
          "z",
          "z",
          "z",
          "z",
          "z",
          "z",
          "z",
          "z",
          "z",
          "z",
          "z",
          "z",
          "z",
          "z",
          "z",
          "z",
          "z"
         ],
         "yaxis": "y"
        }
       ],
       "layout": {
        "legend": {
         "itemsizing": "constant",
         "tracegroupgap": 0
        },
        "margin": {
         "t": 60
        },
        "template": {
         "data": {
          "bar": [
           {
            "error_x": {
             "color": "#2a3f5f"
            },
            "error_y": {
             "color": "#2a3f5f"
            },
            "marker": {
             "line": {
              "color": "#E5ECF6",
              "width": 0.5
             },
             "pattern": {
              "fillmode": "overlay",
              "size": 10,
              "solidity": 0.2
             }
            },
            "type": "bar"
           }
          ],
          "barpolar": [
           {
            "marker": {
             "line": {
              "color": "#E5ECF6",
              "width": 0.5
             },
             "pattern": {
              "fillmode": "overlay",
              "size": 10,
              "solidity": 0.2
             }
            },
            "type": "barpolar"
           }
          ],
          "carpet": [
           {
            "aaxis": {
             "endlinecolor": "#2a3f5f",
             "gridcolor": "white",
             "linecolor": "white",
             "minorgridcolor": "white",
             "startlinecolor": "#2a3f5f"
            },
            "baxis": {
             "endlinecolor": "#2a3f5f",
             "gridcolor": "white",
             "linecolor": "white",
             "minorgridcolor": "white",
             "startlinecolor": "#2a3f5f"
            },
            "type": "carpet"
           }
          ],
          "choropleth": [
           {
            "colorbar": {
             "outlinewidth": 0,
             "ticks": ""
            },
            "type": "choropleth"
           }
          ],
          "contour": [
           {
            "colorbar": {
             "outlinewidth": 0,
             "ticks": ""
            },
            "colorscale": [
             [
              0,
              "#0d0887"
             ],
             [
              0.1111111111111111,
              "#46039f"
             ],
             [
              0.2222222222222222,
              "#7201a8"
             ],
             [
              0.3333333333333333,
              "#9c179e"
             ],
             [
              0.4444444444444444,
              "#bd3786"
             ],
             [
              0.5555555555555556,
              "#d8576b"
             ],
             [
              0.6666666666666666,
              "#ed7953"
             ],
             [
              0.7777777777777778,
              "#fb9f3a"
             ],
             [
              0.8888888888888888,
              "#fdca26"
             ],
             [
              1,
              "#f0f921"
             ]
            ],
            "type": "contour"
           }
          ],
          "contourcarpet": [
           {
            "colorbar": {
             "outlinewidth": 0,
             "ticks": ""
            },
            "type": "contourcarpet"
           }
          ],
          "heatmap": [
           {
            "colorbar": {
             "outlinewidth": 0,
             "ticks": ""
            },
            "colorscale": [
             [
              0,
              "#0d0887"
             ],
             [
              0.1111111111111111,
              "#46039f"
             ],
             [
              0.2222222222222222,
              "#7201a8"
             ],
             [
              0.3333333333333333,
              "#9c179e"
             ],
             [
              0.4444444444444444,
              "#bd3786"
             ],
             [
              0.5555555555555556,
              "#d8576b"
             ],
             [
              0.6666666666666666,
              "#ed7953"
             ],
             [
              0.7777777777777778,
              "#fb9f3a"
             ],
             [
              0.8888888888888888,
              "#fdca26"
             ],
             [
              1,
              "#f0f921"
             ]
            ],
            "type": "heatmap"
           }
          ],
          "heatmapgl": [
           {
            "colorbar": {
             "outlinewidth": 0,
             "ticks": ""
            },
            "colorscale": [
             [
              0,
              "#0d0887"
             ],
             [
              0.1111111111111111,
              "#46039f"
             ],
             [
              0.2222222222222222,
              "#7201a8"
             ],
             [
              0.3333333333333333,
              "#9c179e"
             ],
             [
              0.4444444444444444,
              "#bd3786"
             ],
             [
              0.5555555555555556,
              "#d8576b"
             ],
             [
              0.6666666666666666,
              "#ed7953"
             ],
             [
              0.7777777777777778,
              "#fb9f3a"
             ],
             [
              0.8888888888888888,
              "#fdca26"
             ],
             [
              1,
              "#f0f921"
             ]
            ],
            "type": "heatmapgl"
           }
          ],
          "histogram": [
           {
            "marker": {
             "pattern": {
              "fillmode": "overlay",
              "size": 10,
              "solidity": 0.2
             }
            },
            "type": "histogram"
           }
          ],
          "histogram2d": [
           {
            "colorbar": {
             "outlinewidth": 0,
             "ticks": ""
            },
            "colorscale": [
             [
              0,
              "#0d0887"
             ],
             [
              0.1111111111111111,
              "#46039f"
             ],
             [
              0.2222222222222222,
              "#7201a8"
             ],
             [
              0.3333333333333333,
              "#9c179e"
             ],
             [
              0.4444444444444444,
              "#bd3786"
             ],
             [
              0.5555555555555556,
              "#d8576b"
             ],
             [
              0.6666666666666666,
              "#ed7953"
             ],
             [
              0.7777777777777778,
              "#fb9f3a"
             ],
             [
              0.8888888888888888,
              "#fdca26"
             ],
             [
              1,
              "#f0f921"
             ]
            ],
            "type": "histogram2d"
           }
          ],
          "histogram2dcontour": [
           {
            "colorbar": {
             "outlinewidth": 0,
             "ticks": ""
            },
            "colorscale": [
             [
              0,
              "#0d0887"
             ],
             [
              0.1111111111111111,
              "#46039f"
             ],
             [
              0.2222222222222222,
              "#7201a8"
             ],
             [
              0.3333333333333333,
              "#9c179e"
             ],
             [
              0.4444444444444444,
              "#bd3786"
             ],
             [
              0.5555555555555556,
              "#d8576b"
             ],
             [
              0.6666666666666666,
              "#ed7953"
             ],
             [
              0.7777777777777778,
              "#fb9f3a"
             ],
             [
              0.8888888888888888,
              "#fdca26"
             ],
             [
              1,
              "#f0f921"
             ]
            ],
            "type": "histogram2dcontour"
           }
          ],
          "mesh3d": [
           {
            "colorbar": {
             "outlinewidth": 0,
             "ticks": ""
            },
            "type": "mesh3d"
           }
          ],
          "parcoords": [
           {
            "line": {
             "colorbar": {
              "outlinewidth": 0,
              "ticks": ""
             }
            },
            "type": "parcoords"
           }
          ],
          "pie": [
           {
            "automargin": true,
            "type": "pie"
           }
          ],
          "scatter": [
           {
            "marker": {
             "colorbar": {
              "outlinewidth": 0,
              "ticks": ""
             }
            },
            "type": "scatter"
           }
          ],
          "scatter3d": [
           {
            "line": {
             "colorbar": {
              "outlinewidth": 0,
              "ticks": ""
             }
            },
            "marker": {
             "colorbar": {
              "outlinewidth": 0,
              "ticks": ""
             }
            },
            "type": "scatter3d"
           }
          ],
          "scattercarpet": [
           {
            "marker": {
             "colorbar": {
              "outlinewidth": 0,
              "ticks": ""
             }
            },
            "type": "scattercarpet"
           }
          ],
          "scattergeo": [
           {
            "marker": {
             "colorbar": {
              "outlinewidth": 0,
              "ticks": ""
             }
            },
            "type": "scattergeo"
           }
          ],
          "scattergl": [
           {
            "marker": {
             "colorbar": {
              "outlinewidth": 0,
              "ticks": ""
             }
            },
            "type": "scattergl"
           }
          ],
          "scattermapbox": [
           {
            "marker": {
             "colorbar": {
              "outlinewidth": 0,
              "ticks": ""
             }
            },
            "type": "scattermapbox"
           }
          ],
          "scatterpolar": [
           {
            "marker": {
             "colorbar": {
              "outlinewidth": 0,
              "ticks": ""
             }
            },
            "type": "scatterpolar"
           }
          ],
          "scatterpolargl": [
           {
            "marker": {
             "colorbar": {
              "outlinewidth": 0,
              "ticks": ""
             }
            },
            "type": "scatterpolargl"
           }
          ],
          "scatterternary": [
           {
            "marker": {
             "colorbar": {
              "outlinewidth": 0,
              "ticks": ""
             }
            },
            "type": "scatterternary"
           }
          ],
          "surface": [
           {
            "colorbar": {
             "outlinewidth": 0,
             "ticks": ""
            },
            "colorscale": [
             [
              0,
              "#0d0887"
             ],
             [
              0.1111111111111111,
              "#46039f"
             ],
             [
              0.2222222222222222,
              "#7201a8"
             ],
             [
              0.3333333333333333,
              "#9c179e"
             ],
             [
              0.4444444444444444,
              "#bd3786"
             ],
             [
              0.5555555555555556,
              "#d8576b"
             ],
             [
              0.6666666666666666,
              "#ed7953"
             ],
             [
              0.7777777777777778,
              "#fb9f3a"
             ],
             [
              0.8888888888888888,
              "#fdca26"
             ],
             [
              1,
              "#f0f921"
             ]
            ],
            "type": "surface"
           }
          ],
          "table": [
           {
            "cells": {
             "fill": {
              "color": "#EBF0F8"
             },
             "line": {
              "color": "white"
             }
            },
            "header": {
             "fill": {
              "color": "#C8D4E3"
             },
             "line": {
              "color": "white"
             }
            },
            "type": "table"
           }
          ]
         },
         "layout": {
          "annotationdefaults": {
           "arrowcolor": "#2a3f5f",
           "arrowhead": 0,
           "arrowwidth": 1
          },
          "autotypenumbers": "strict",
          "coloraxis": {
           "colorbar": {
            "outlinewidth": 0,
            "ticks": ""
           }
          },
          "colorscale": {
           "diverging": [
            [
             0,
             "#8e0152"
            ],
            [
             0.1,
             "#c51b7d"
            ],
            [
             0.2,
             "#de77ae"
            ],
            [
             0.3,
             "#f1b6da"
            ],
            [
             0.4,
             "#fde0ef"
            ],
            [
             0.5,
             "#f7f7f7"
            ],
            [
             0.6,
             "#e6f5d0"
            ],
            [
             0.7,
             "#b8e186"
            ],
            [
             0.8,
             "#7fbc41"
            ],
            [
             0.9,
             "#4d9221"
            ],
            [
             1,
             "#276419"
            ]
           ],
           "sequential": [
            [
             0,
             "#0d0887"
            ],
            [
             0.1111111111111111,
             "#46039f"
            ],
            [
             0.2222222222222222,
             "#7201a8"
            ],
            [
             0.3333333333333333,
             "#9c179e"
            ],
            [
             0.4444444444444444,
             "#bd3786"
            ],
            [
             0.5555555555555556,
             "#d8576b"
            ],
            [
             0.6666666666666666,
             "#ed7953"
            ],
            [
             0.7777777777777778,
             "#fb9f3a"
            ],
            [
             0.8888888888888888,
             "#fdca26"
            ],
            [
             1,
             "#f0f921"
            ]
           ],
           "sequentialminus": [
            [
             0,
             "#0d0887"
            ],
            [
             0.1111111111111111,
             "#46039f"
            ],
            [
             0.2222222222222222,
             "#7201a8"
            ],
            [
             0.3333333333333333,
             "#9c179e"
            ],
            [
             0.4444444444444444,
             "#bd3786"
            ],
            [
             0.5555555555555556,
             "#d8576b"
            ],
            [
             0.6666666666666666,
             "#ed7953"
            ],
            [
             0.7777777777777778,
             "#fb9f3a"
            ],
            [
             0.8888888888888888,
             "#fdca26"
            ],
            [
             1,
             "#f0f921"
            ]
           ]
          },
          "colorway": [
           "#636efa",
           "#EF553B",
           "#00cc96",
           "#ab63fa",
           "#FFA15A",
           "#19d3f3",
           "#FF6692",
           "#B6E880",
           "#FF97FF",
           "#FECB52"
          ],
          "font": {
           "color": "#2a3f5f"
          },
          "geo": {
           "bgcolor": "white",
           "lakecolor": "white",
           "landcolor": "#E5ECF6",
           "showlakes": true,
           "showland": true,
           "subunitcolor": "white"
          },
          "hoverlabel": {
           "align": "left"
          },
          "hovermode": "closest",
          "mapbox": {
           "style": "light"
          },
          "paper_bgcolor": "white",
          "plot_bgcolor": "#E5ECF6",
          "polar": {
           "angularaxis": {
            "gridcolor": "white",
            "linecolor": "white",
            "ticks": ""
           },
           "bgcolor": "#E5ECF6",
           "radialaxis": {
            "gridcolor": "white",
            "linecolor": "white",
            "ticks": ""
           }
          },
          "scene": {
           "xaxis": {
            "backgroundcolor": "#E5ECF6",
            "gridcolor": "white",
            "gridwidth": 2,
            "linecolor": "white",
            "showbackground": true,
            "ticks": "",
            "zerolinecolor": "white"
           },
           "yaxis": {
            "backgroundcolor": "#E5ECF6",
            "gridcolor": "white",
            "gridwidth": 2,
            "linecolor": "white",
            "showbackground": true,
            "ticks": "",
            "zerolinecolor": "white"
           },
           "zaxis": {
            "backgroundcolor": "#E5ECF6",
            "gridcolor": "white",
            "gridwidth": 2,
            "linecolor": "white",
            "showbackground": true,
            "ticks": "",
            "zerolinecolor": "white"
           }
          },
          "shapedefaults": {
           "line": {
            "color": "#2a3f5f"
           }
          },
          "ternary": {
           "aaxis": {
            "gridcolor": "white",
            "linecolor": "white",
            "ticks": ""
           },
           "baxis": {
            "gridcolor": "white",
            "linecolor": "white",
            "ticks": ""
           },
           "bgcolor": "#E5ECF6",
           "caxis": {
            "gridcolor": "white",
            "linecolor": "white",
            "ticks": ""
           }
          },
          "title": {
           "x": 0.05
          },
          "xaxis": {
           "automargin": true,
           "gridcolor": "white",
           "linecolor": "white",
           "ticks": "",
           "title": {
            "standoff": 15
           },
           "zerolinecolor": "white",
           "zerolinewidth": 2
          },
          "yaxis": {
           "automargin": true,
           "gridcolor": "white",
           "linecolor": "white",
           "ticks": "",
           "title": {
            "standoff": 15
           },
           "zerolinecolor": "white",
           "zerolinewidth": 2
          }
         }
        },
        "xaxis": {
         "anchor": "y",
         "domain": [
          0,
          1
         ],
         "title": {
          "text": "index"
         }
        },
        "yaxis": {
         "anchor": "x",
         "domain": [
          0,
          1
         ],
         "title": {
          "text": "variable"
         }
        }
       }
      }
     },
     "metadata": {},
     "output_type": "display_data"
    }
   ],
   "source": [
    "px.scatter(\n",
    "    data_frame = cm.reset_index().melt(id_vars=\"index\"),\n",
    "    x = 'index',\n",
    "    y = 'variable',\n",
    "    size = 'value'\n",
    ")"
   ]
  },
  {
   "cell_type": "code",
   "execution_count": null,
   "metadata": {},
   "outputs": [],
   "source": []
  }
 ],
 "metadata": {
  "kernelspec": {
   "display_name": "Python 3 (ipykernel)",
   "language": "python",
   "name": "python3"
  },
  "language_info": {
   "codemirror_mode": {
    "name": "ipython",
    "version": 3
   },
   "file_extension": ".py",
   "mimetype": "text/x-python",
   "name": "python",
   "nbconvert_exporter": "python",
   "pygments_lexer": "ipython3",
   "version": "3.10.9"
  },
  "vscode": {
   "interpreter": {
    "hash": "f433b787ce057415fbeff0202bbbe2dd54227d53193ba7e83f41077e1beab830"
   }
  }
 },
 "nbformat": 4,
 "nbformat_minor": 2
}
