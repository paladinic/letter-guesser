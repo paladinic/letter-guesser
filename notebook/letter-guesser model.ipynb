{
 "cells": [
  {
   "cell_type": "markdown",
   "metadata": {},
   "source": [
    "# Letter Recognition\n",
    " Model Comparison"
   ]
  },
  {
   "cell_type": "markdown",
   "metadata": {},
   "source": [
    "## Importing libraries"
   ]
  },
  {
   "cell_type": "code",
   "execution_count": 26,
   "metadata": {},
   "outputs": [],
   "source": [
    "# image manipulation\n",
    "import cv2\n",
    "\n",
    "# data\n",
    "from emnist import extract_training_samples,extract_test_samples\n",
    "\n",
    "# visualisation\n",
    "import matplotlib.pyplot as plt\n",
    "\n",
    "# data manipulation\n",
    "import pandas as pd\n",
    "import numpy as np\n",
    "\n",
    "# modelling\n",
    "from sklearn.tree import DecisionTreeClassifier\n",
    "from sklearn.ensemble import RandomForestClassifier\n",
    "\n",
    "from sklearn.linear_model import LogisticRegression\n",
    "\n",
    "from keras.layers import Dense, Flatten, MaxPooling2D, Conv2D\n",
    "from keras.models import Sequential\n",
    "from keras.utils import to_categorical\n",
    "from keras.callbacks import EarlyStopping\n",
    "\n",
    "import tensorflow as tf"
   ]
  },
  {
   "cell_type": "markdown",
   "metadata": {},
   "source": [
    "## Useful functions"
   ]
  },
  {
   "cell_type": "code",
   "execution_count": 12,
   "metadata": {
    "scrolled": true
   },
   "outputs": [],
   "source": [
    "# from local image (png, jpg, ...) to data\n",
    "def img_to_data(src,n):\n",
    "    originalImage = cv2.imread(src)\n",
    "    grayImage = cv2.cvtColor(originalImage, cv2.COLOR_BGR2GRAY)\n",
    "    resizedImage = cv2.resize(grayImage, (n,n))\n",
    "    rescaledImage = 16 - resizedImage*(16/255)\n",
    "    return rescaledImage\n",
    "\n",
    "# plot image\n",
    "def show_char(d):\n",
    "    plt.imshow(d, cmap=plt.cm.gray_r, interpolation='nearest')\n",
    "    plt.show()\n",
    "\n",
    "# prediction as letter\n",
    "alphabet = np.array([\"a\",\"b\",\"c\",\"d\",\"e\",\"f\",\"g\",\"h\",\"i\",\"j\",\"k\",\"l\",\"m\",\"n\",\"o\",\"p\",\"q\",\"r\",\"s\",\"t\",\"u\",\"v\",\"w\",\"x\",\"y\",\"z\"])\n",
    "def alph_res(pred):\n",
    "    return (alphabet[pred == max(pred)])"
   ]
  },
  {
   "cell_type": "markdown",
   "metadata": {},
   "source": [
    "## Importing the Data \n",
    "emnist"
   ]
  },
  {
   "cell_type": "code",
   "execution_count": 18,
   "metadata": {},
   "outputs": [
    {
     "data": {
      "image/png": "[encoded data removed]",
      "text/plain": [
       "<Figure size 432x288 with 1 Axes>"
      ]
     },
     "metadata": {
      "needs_background": "light"
     },
     "output_type": "display_data"
    },
    {
     "data": {
      "image/png": "[encoded data removed]",
      "text/plain": [
       "<Figure size 432x288 with 1 Axes>"
      ]
     },
     "metadata": {
      "needs_background": "light"
     },
     "output_type": "display_data"
    }
   ],
   "source": [
    "# data - letters\n",
    "images, labels = extract_training_samples('letters')\n",
    "t_images, t_labels = extract_test_samples('letters')\n",
    "\n",
    "reshapedImages = images.reshape( (images.shape[0], 28*28))\n",
    "t_reshapedImages = images.reshape( (images.shape[0], 28*28))\n",
    "\n",
    "labels_binary = to_categorical(labels - 1)\n",
    "\n",
    "\n",
    "show_char(images[1])\n",
    "show_char(t_images[1])"
   ]
  },
  {
   "cell_type": "markdown",
   "metadata": {},
   "source": [
    "## Models"
   ]
  },
  {
   "cell_type": "markdown",
   "metadata": {},
   "source": [
    "#### A simple neural network"
   ]
  },
  {
   "cell_type": "code",
   "execution_count": 33,
   "metadata": {
    "scrolled": false
   },
   "outputs": [
    {
     "name": "stdout",
     "output_type": "stream",
     "text": [
      "Epoch 1/20\n",
      "3120/3120 [==============================] - 45s 14ms/step - loss: 1.2897 - accuracy: 0.7431 - val_loss: 0.6512 - val_accuracy: 0.8085\n",
      "Epoch 2/20\n",
      "3120/3120 [==============================] - 46s 15ms/step - loss: 0.5911 - accuracy: 0.8229 - val_loss: 0.5227 - val_accuracy: 0.8448\n",
      "Epoch 3/20\n",
      "3120/3120 [==============================] - 46s 15ms/step - loss: 0.5222 - accuracy: 0.8446 - val_loss: 0.5698 - val_accuracy: 0.8385\n",
      "Epoch 4/20\n",
      "3120/3120 [==============================] - 46s 15ms/step - loss: 0.4808 - accuracy: 0.8594 - val_loss: 0.4894 - val_accuracy: 0.8609\n",
      "Epoch 5/20\n",
      "3120/3120 [==============================] - 47s 15ms/step - loss: 0.4441 - accuracy: 0.8705 - val_loss: 0.5252 - val_accuracy: 0.8597\n",
      "Epoch 6/20\n",
      "3120/3120 [==============================] - 47s 15ms/step - loss: 0.4191 - accuracy: 0.8815 - val_loss: 0.4920 - val_accuracy: 0.8703\n",
      "Epoch 7/20\n",
      "3120/3120 [==============================] - 47s 15ms/step - loss: 0.3974 - accuracy: 0.8880 - val_loss: 0.5383 - val_accuracy: 0.8683\n",
      "Epoch 8/20\n",
      "3120/3120 [==============================] - 47s 15ms/step - loss: 0.3867 - accuracy: 0.8922 - val_loss: 0.5824 - val_accuracy: 0.8651\n",
      "Epoch 9/20\n",
      "3120/3120 [==============================] - 47s 15ms/step - loss: 0.3810 - accuracy: 0.8940 - val_loss: 0.5640 - val_accuracy: 0.8703\n"
     ]
    },
    {
     "data": {
      "text/plain": [
       "<tensorflow.python.keras.callbacks.History at 0x176c5fa5e80>"
      ]
     },
     "execution_count": 33,
     "metadata": {},
     "output_type": "execute_result"
    }
   ],
   "source": [
    "# model - letters\n",
    "n_cols = len(reshapedImages[1])\n",
    "\n",
    "model = Sequential()\n",
    "model.add(Dense(784, activation=\"relu\", input_shape = (n_cols,)))\n",
    "model.add(Dense(1000, activation=\"relu\"))\n",
    "model.add(Dense(500, activation=\"relu\"))\n",
    "model.add(Dense(26,activation=\"softmax\"))\n",
    "model.compile(optimizer=\"adam\",\n",
    "              loss=\"categorical_crossentropy\",\n",
    "              metrics = [\"accuracy\"])\n",
    "\n",
    "early_stopping_monitor = EarlyStopping(patience = 5)\n",
    "\n",
    "tf.config.run_functions_eagerly(False)\n",
    "model.fit(reshapedImages,\n",
    "            labels_binary,\n",
    "            epochs=20,\n",
    "            validation_split=.2,\n",
    "            callbacks=[early_stopping_monitor])"
   ]
  },
  {
   "cell_type": "code",
   "execution_count": 34,
   "metadata": {},
   "outputs": [
    {
     "data": {
      "image/png": "[encoded data removed]",
      "text/plain": [
       "<Figure size 432x288 with 1 Axes>"
      ]
     },
     "metadata": {
      "needs_background": "light"
     },
     "output_type": "display_data"
    },
    {
     "name": "stdout",
     "output_type": "stream",
     "text": [
      "Model: \"sequential_3\"\n",
      "_________________________________________________________________\n",
      "Layer (type)                 Output Shape              Param #   \n",
      "=================================================================\n",
      "dense_9 (Dense)              (None, 784)               615440    \n",
      "_________________________________________________________________\n",
      "dense_10 (Dense)             (None, 1000)              785000    \n",
      "_________________________________________________________________\n",
      "dense_11 (Dense)             (None, 500)               500500    \n",
      "_________________________________________________________________\n",
      "dense_12 (Dense)             (None, 26)                13026     \n",
      "=================================================================\n",
      "Total params: 1,913,966\n",
      "Trainable params: 1,913,966\n",
      "Non-trainable params: 0\n",
      "_________________________________________________________________\n"
     ]
    }
   ],
   "source": [
    "plt.plot(model.history.history['val_loss'], 'r')\n",
    "plt.plot(model.history.history['accuracy'], 'b')\n",
    "plt.plot(model.history.history['val_accuracy'], 'g')\n",
    "plt.show()\n",
    "model.summary()"
   ]
  },
  {
   "cell_type": "code",
   "execution_count": 35,
   "metadata": {
    "scrolled": true
   },
   "outputs": [
    {
     "name": "stdout",
     "output_type": "stream",
     "text": [
      "['q']\n"
     ]
    },
    {
     "data": {
      "image/png": "[encoded data removed]",
      "text/plain": [
       "<Figure size 432x288 with 1 Axes>"
      ]
     },
     "metadata": {
      "needs_background": "light"
     },
     "output_type": "display_data"
    },
    {
     "name": "stdout",
     "output_type": "stream",
     "text": [
      "['i']\n"
     ]
    },
    {
     "data": {
      "image/png": "[encoded data removed]",
      "text/plain": [
       "<Figure size 432x288 with 1 Axes>"
      ]
     },
     "metadata": {
      "needs_background": "light"
     },
     "output_type": "display_data"
    },
    {
     "name": "stdout",
     "output_type": "stream",
     "text": [
      "['s']\n"
     ]
    },
    {
     "data": {
      "image/png": "[encoded data removed]",
      "text/plain": [
       "<Figure size 432x288 with 1 Axes>"
      ]
     },
     "metadata": {
      "needs_background": "light"
     },
     "output_type": "display_data"
    },
    {
     "name": "stdout",
     "output_type": "stream",
     "text": [
      "['o']\n"
     ]
    },
    {
     "data": {
      "image/png": "[encoded data removed]",
      "text/plain": [
       "<Figure size 432x288 with 1 Axes>"
      ]
     },
     "metadata": {
      "needs_background": "light"
     },
     "output_type": "display_data"
    },
    {
     "name": "stdout",
     "output_type": "stream",
     "text": [
      "['w']\n"
     ]
    },
    {
     "data": {
      "image/png": "[encoded data removed]",
      "text/plain": [
       "<Figure size 432x288 with 1 Axes>"
      ]
     },
     "metadata": {
      "needs_background": "light"
     },
     "output_type": "display_data"
    },
    {
     "name": "stdout",
     "output_type": "stream",
     "text": [
      "['u']\n"
     ]
    },
    {
     "data": {
      "image/png": "[encoded data removed]",
      "text/plain": [
       "<Figure size 432x288 with 1 Axes>"
      ]
     },
     "metadata": {
      "needs_background": "light"
     },
     "output_type": "display_data"
    },
    {
     "name": "stdout",
     "output_type": "stream",
     "text": [
      "['v']\n"
     ]
    },
    {
     "data": {
      "image/png": "[encoded data removed]",
      "text/plain": [
       "<Figure size 432x288 with 1 Axes>"
      ]
     },
     "metadata": {
      "needs_background": "light"
     },
     "output_type": "display_data"
    },
    {
     "name": "stdout",
     "output_type": "stream",
     "text": [
      "['u']\n"
     ]
    },
    {
     "data": {
      "image/png": "[encoded data removed]",
      "text/plain": [
       "<Figure size 432x288 with 1 Axes>"
      ]
     },
     "metadata": {
      "needs_background": "light"
     },
     "output_type": "display_data"
    },
    {
     "name": "stdout",
     "output_type": "stream",
     "text": [
      "['v']\n"
     ]
    },
    {
     "data": {
      "image/png": "[encoded data removed]",
      "text/plain": [
       "<Figure size 432x288 with 1 Axes>"
      ]
     },
     "metadata": {
      "needs_background": "light"
     },
     "output_type": "display_data"
    },
    {
     "name": "stdout",
     "output_type": "stream",
     "text": [
      "['s']\n"
     ]
    },
    {
     "data": {
      "image/png": "[encoded data removed]",
      "text/plain": [
       "<Figure size 432x288 with 1 Axes>"
      ]
     },
     "metadata": {
      "needs_background": "light"
     },
     "output_type": "display_data"
    }
   ],
   "source": [
    "pred = model.predict(t_reshapedImages)\n",
    "\n",
    "for i in np.random.randint(low=1,high=20800,size=10):\n",
    "    print(alph_res(pred[i]))\n",
    "    show_char(t_images[i])"
   ]
  },
  {
   "cell_type": "markdown",
   "metadata": {},
   "source": [
    "## A simple convolutional neural net model"
   ]
  },
  {
   "cell_type": "code",
   "execution_count": null,
   "metadata": {},
   "outputs": [
    {
     "name": "stdout",
     "output_type": "stream",
     "text": [
      "The history saving thread hit an unexpected error (OperationalError('database or disk is full')).History will not be written to the database.\n",
      "Epoch 1/100\n",
      "3120/3120 [==============================] - 257s 82ms/step - loss: 15.4983 - accuracy: 0.0384 - val_loss: 15.4956 - val_accuracy: 0.0386\n",
      "Epoch 2/100\n",
      "3120/3120 [==============================] - 252s 81ms/step - loss: 15.4985 - accuracy: 0.0384 - val_loss: 15.4956 - val_accuracy: 0.0386\n",
      "Epoch 3/100\n",
      "3120/3120 [==============================] - 252s 81ms/step - loss: 15.4985 - accuracy: 0.0384 - val_loss: 15.4956 - val_accuracy: 0.0386\n",
      "Epoch 4/100\n",
      "3120/3120 [==============================] - 260s 83ms/step - loss: 15.4985 - accuracy: 0.0384 - val_loss: 15.4956 - val_accuracy: 0.0386\n",
      "Epoch 5/100\n",
      " 694/3120 [=====>........................] - ETA: 2:56 - loss: 15.5070 - accuracy: 0.0379"
     ]
    }
   ],
   "source": [
    "model = Sequential()\n",
    "model.add(Conv2D(50, kernel_size=(4, 4),activation='relu',input_shape=(28,28,1),padding='same'))\n",
    "model.add(MaxPooling2D((2, 2),padding='same'))\n",
    "# model.add(Conv2D(10, kernel_size=(2, 2),activation='relu',padding='same'))\n",
    "model.add(Flatten())\n",
    "model.add(Dense(1000, activation='relu'))         \n",
    "model.add(Dense(26,activation=\"softmax\"))\n",
    "model.compile(optimizer=\"adam\",\n",
    "              loss=\"categorical_crossentropy\",\n",
    "              metrics = [\"accuracy\"])\n",
    "\n",
    "conv_images = images.reshape(-1, 28,28, 1).astype('float32')\n",
    "\n",
    "tf.config.run_functions_eagerly(True)\n",
    "\n",
    "model.fit(conv_images,\n",
    "            labels_binary,\n",
    "            epochs=100,\n",
    "            validation_split=.2,\n",
    "            callbacks=[early_stopping_monitor])\n",
    "\n",
    "\n",
    "tf.config.run_functions_eagerly(False)"
   ]
  },
  {
   "cell_type": "code",
   "execution_count": null,
   "metadata": {},
   "outputs": [],
   "source": [
    "conv_test = t_images.reshape(-1, 28,28, 1).astype('float32')\n",
    "conv_pred = model.predict(conv_test)\n",
    "\n",
    "for i in np.random.randint(low=1,high=20800,size=10):\n",
    "    print(alph_res(conv_pred[i]))\n",
    "    show_char(t_images[i])"
   ]
  },
  {
   "cell_type": "code",
   "execution_count": 71,
   "metadata": {},
   "outputs": [],
   "source": [
    "model.save('../static/models/conv_model.h5',overwrite=True)"
   ]
  },
  {
   "cell_type": "code",
   "execution_count": 29,
   "metadata": {},
   "outputs": [
    {
     "data": {
      "text/plain": [
       "0.6862980769230769"
      ]
     },
     "execution_count": 29,
     "metadata": {},
     "output_type": "execute_result"
    }
   ],
   "source": [
    "model = DecisionTreeClassifier(max_depth=10)\n",
    "model.fit(X=reshapedImages,y=labels)\n",
    "model.score(X=reshapedImages,y=labels)"
   ]
  },
  {
   "cell_type": "code",
   "execution_count": 30,
   "metadata": {},
   "outputs": [
    {
     "name": "stderr",
     "output_type": "stream",
     "text": [
      "C:\\Users\\44751\\anaconda3\\lib\\site-packages\\sklearn\\linear_model\\_logistic.py:762: ConvergenceWarning: lbfgs failed to converge (status=1):\n",
      "STOP: TOTAL NO. of ITERATIONS REACHED LIMIT.\n",
      "\n",
      "Increase the number of iterations (max_iter) or scale the data as shown in:\n",
      "    https://scikit-learn.org/stable/modules/preprocessing.html\n",
      "Please also refer to the documentation for alternative solver options:\n",
      "    https://scikit-learn.org/stable/modules/linear_model.html#logistic-regression\n",
      "  n_iter_i = _check_optimize_result(\n"
     ]
    },
    {
     "data": {
      "text/plain": [
       "0.7269711538461539"
      ]
     },
     "execution_count": 30,
     "metadata": {},
     "output_type": "execute_result"
    }
   ],
   "source": [
    "model = LogisticRegression()\n",
    "model.fit(X=reshapedImages,y = labels)\n",
    "model.score(X=reshapedImages,y = labels)"
   ]
  },
  {
   "cell_type": "code",
   "execution_count": 32,
   "metadata": {},
   "outputs": [
    {
     "data": {
      "text/plain": [
       "0.8334455128205128"
      ]
     },
     "execution_count": 32,
     "metadata": {},
     "output_type": "execute_result"
    }
   ],
   "source": [
    "model = RandomForestClassifier(max_depth=10)\n",
    "model.fit(X=reshapedImages,y = labels)\n",
    "model.score(X=reshapedImages,y = labels)"
   ]
  },
  {
   "cell_type": "code",
   "execution_count": null,
   "metadata": {},
   "outputs": [],
   "source": []
  }
 ],
 "metadata": {
  "kernelspec": {
   "display_name": "Python 3",
   "language": "python",
   "name": "python3"
  },
  "language_info": {
   "codemirror_mode": {
    "name": "ipython",
    "version": 3
   },
   "file_extension": ".py",
   "mimetype": "text/x-python",
   "name": "python",
   "nbconvert_exporter": "python",
   "pygments_lexer": "ipython3",
   "version": "3.8.3"
  }
 },
 "nbformat": 4,
 "nbformat_minor": 2
}
