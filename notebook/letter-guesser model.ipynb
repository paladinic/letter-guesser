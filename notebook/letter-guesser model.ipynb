{
 "cells": [
  {
   "cell_type": "code",
   "execution_count": 5,
   "metadata": {},
   "outputs": [],
   "source": [
    "# libs\n",
    "import cv2\n",
    "from emnist import extract_training_samples,extract_test_samples\n",
    "\n",
    "import matplotlib.pyplot as plt\n",
    "\n",
    "import pandas as pd\n",
    "import numpy as np\n",
    "\n",
    "from keras.layers import Dense\n",
    "from keras.models import Sequential\n",
    "from keras.utils import to_categorical\n",
    "from keras.callbacks import EarlyStopping\n",
    "\n",
    "from sklearn import datasets\n",
    "from sklearn.model_selection import train_test_split"
   ]
  },
  {
   "cell_type": "code",
   "execution_count": 7,
   "metadata": {
    "scrolled": true
   },
   "outputs": [],
   "source": [
    "def img_to_data(src,n):\n",
    "    originalImage = cv2.imread(src)\n",
    "    grayImage = cv2.cvtColor(originalImage, cv2.COLOR_BGR2GRAY)\n",
    "    resizedImage = cv2.resize(grayImage, (n,n))\n",
    "    rescaledImage = 16 - resizedImage*(16/255)\n",
    "    return rescaledImage\n",
    "\n",
    "def show_char(d):\n",
    "    plt.imshow(d, cmap=plt.cm.gray_r, interpolation='nearest')\n",
    "    plt.show()\n",
    "\n",
    "alphabet = np.array([\"a\",\"b\",\"c\",\"d\",\"e\",\"f\",\"g\",\"h\",\"i\",\"j\",\"k\",\"l\",\"m\",\"n\",\"o\",\"p\",\"q\",\"r\",\"s\",\"t\",\"u\",\"v\",\"w\",\"x\",\"y\",\"z\"])\n",
    "def alph_res(pred):\n",
    "    return (alphabet[pred == max(pred)])"
   ]
  },
  {
   "cell_type": "code",
   "execution_count": 9,
   "metadata": {},
   "outputs": [
    {
     "data": {
      "image/png": "[encoded data removed]",
      "text/plain": [
       "<Figure size 432x288 with 1 Axes>"
      ]
     },
     "metadata": {
      "needs_background": "light"
     },
     "output_type": "display_data"
    },
    {
     "data": {
      "image/png": "[encoded data removed]",
      "text/plain": [
       "<Figure size 432x288 with 1 Axes>"
      ]
     },
     "metadata": {
      "needs_background": "light"
     },
     "output_type": "display_data"
    }
   ],
   "source": [
    "# data - letters\n",
    "images, labels = extract_training_samples('letters')\n",
    "t_images, t_labels = extract_test_samples('letters')\n",
    "reshapedImages = images.reshape( (images.shape[0], 28*28))\n",
    "labels_binary = to_categorical(labels - 1)\n",
    "\n",
    "\n",
    "show_char(images[1])\n",
    "show_char(t_images[1])"
   ]
  },
  {
   "cell_type": "code",
   "execution_count": 22,
   "metadata": {
    "scrolled": false
   },
   "outputs": [
    {
     "name": "stdout",
     "output_type": "stream",
     "text": [
      "Epoch 1/10\n",
      "3120/3120 [==============================] - 26s 8ms/step - loss: 2.0320 - accuracy: 0.7136 - val_loss: 0.7096 - val_accuracy: 0.7929\n",
      "Epoch 2/10\n",
      "3120/3120 [==============================] - 27s 9ms/step - loss: 0.6721 - accuracy: 0.8031 - val_loss: 0.7325 - val_accuracy: 0.7917\n",
      "Epoch 3/10\n",
      "3120/3120 [==============================] - 26s 8ms/step - loss: 0.6247 - accuracy: 0.8183 - val_loss: 0.6288 - val_accuracy: 0.8276\n",
      "Epoch 4/10\n",
      "3120/3120 [==============================] - 26s 8ms/step - loss: 0.5944 - accuracy: 0.8300 - val_loss: 0.6253 - val_accuracy: 0.8270\n",
      "Epoch 5/10\n",
      "3120/3120 [==============================] - 26s 8ms/step - loss: 0.5593 - accuracy: 0.8417 - val_loss: 0.6182 - val_accuracy: 0.8349\n",
      "Epoch 6/10\n",
      "3120/3120 [==============================] - 27s 9ms/step - loss: 0.5366 - accuracy: 0.8490 - val_loss: 0.6115 - val_accuracy: 0.8374\n",
      "Epoch 7/10\n",
      "3120/3120 [==============================] - 26s 8ms/step - loss: 0.5185 - accuracy: 0.8548 - val_loss: 0.6178 - val_accuracy: 0.8424\n",
      "Epoch 8/10\n",
      "3120/3120 [==============================] - 26s 8ms/step - loss: 0.5125 - accuracy: 0.8597 - val_loss: 0.6444 - val_accuracy: 0.8371\n",
      "Epoch 9/10\n",
      "3120/3120 [==============================] - 27s 9ms/step - loss: 0.5008 - accuracy: 0.8631 - val_loss: 0.6050 - val_accuracy: 0.8565\n",
      "Epoch 10/10\n",
      "3120/3120 [==============================] - 26s 8ms/step - loss: 0.4976 - accuracy: 0.8662 - val_loss: 0.6122 - val_accuracy: 0.8562\n"
     ]
    },
    {
     "data": {
      "text/plain": [
       "<tensorflow.python.keras.callbacks.History at 0x262466e15e0>"
      ]
     },
     "execution_count": 22,
     "metadata": {},
     "output_type": "execute_result"
    }
   ],
   "source": [
    "# model - letters\n",
    "n_cols = len(reshapedImages[1])\n",
    "\n",
    "model = Sequential()\n",
    "model.add(Dense(784, activation=\"relu\", input_shape = (n_cols,)))\n",
    "model.add(Dense(1000, activation=\"relu\", input_shape = (n_cols,)))\n",
    "model.add(Dense(26,activation=\"softmax\"))\n",
    "model.compile(optimizer=\"adam\",\n",
    "              loss=\"categorical_crossentropy\",\n",
    "              metrics = [\"accuracy\"])\n",
    "\n",
    "early_stopping_monitor = EarlyStopping(patience = 5)\n",
    "\n",
    "model.fit(reshapedImages,\n",
    "            labels_binary,\n",
    "            epochs=10,\n",
    "            validation_split=.2,\n",
    "            callbacks=[early_stopping_monitor])"
   ]
  },
  {
   "cell_type": "code",
   "execution_count": 23,
   "metadata": {},
   "outputs": [
    {
     "name": "stdout",
     "output_type": "stream",
     "text": [
      "Model: \"sequential_5\"\n",
      "_________________________________________________________________\n",
      "Layer (type)                 Output Shape              Param #   \n",
      "=================================================================\n",
      "dense_13 (Dense)             (None, 784)               615440    \n",
      "_________________________________________________________________\n",
      "dense_14 (Dense)             (None, 1000)              785000    \n",
      "_________________________________________________________________\n",
      "dense_15 (Dense)             (None, 26)                26026     \n",
      "=================================================================\n",
      "Total params: 1,426,466\n",
      "Trainable params: 1,426,466\n",
      "Non-trainable params: 0\n",
      "_________________________________________________________________\n"
     ]
    }
   ],
   "source": [
    "model.summary()"
   ]
  },
  {
   "cell_type": "code",
   "execution_count": 24,
   "metadata": {},
   "outputs": [
    {
     "data": {
      "text/plain": [
       "[<matplotlib.lines.Line2D at 0x2624c540640>]"
      ]
     },
     "execution_count": 24,
     "metadata": {},
     "output_type": "execute_result"
    },
    {
     "data": {
      "image/png": "[encoded data removed]",
      "text/plain": [
       "<Figure size 432x288 with 1 Axes>"
      ]
     },
     "metadata": {
      "needs_background": "light"
     },
     "output_type": "display_data"
    }
   ],
   "source": [
    "plt.plot(model.history.history['val_loss'], 'r')"
   ]
  },
  {
   "cell_type": "code",
   "execution_count": 25,
   "metadata": {
    "scrolled": true
   },
   "outputs": [
    {
     "data": {
      "image/png": "[encoded data removed]",
      "text/plain": [
       "<Figure size 432x288 with 1 Axes>"
      ]
     },
     "metadata": {
      "needs_background": "light"
     },
     "output_type": "display_data"
    },
    {
     "data": {
      "image/png": "[encoded data removed]",
      "text/plain": [
       "<Figure size 432x288 with 1 Axes>"
      ]
     },
     "metadata": {
      "needs_background": "light"
     },
     "output_type": "display_data"
    },
    {
     "data": {
      "image/png": "[encoded data removed]",
      "text/plain": [
       "<Figure size 432x288 with 1 Axes>"
      ]
     },
     "metadata": {
      "needs_background": "light"
     },
     "output_type": "display_data"
    }
   ],
   "source": [
    "n1 = img_to_data(\"img/n.png\",28)\n",
    "r1 = img_to_data(\"img/r.png\",28)\n",
    "t1 = img_to_data(\"img/t.png\",28)\n",
    "\n",
    "\n",
    "ass = np.array([n1,r1,t1])\n",
    "ass = ass.reshape((ass.shape[0], 28*28))\n",
    "t_images_reshaped = t_images.reshape((t_images.shape[0], 28*28))\n",
    "\n",
    "show_char(t_images[1])\n",
    "show_char(n1)\n",
    "show_char(t1)"
   ]
  },
  {
   "cell_type": "code",
   "execution_count": 26,
   "metadata": {
    "scrolled": true
   },
   "outputs": [
    {
     "name": "stdout",
     "output_type": "stream",
     "text": [
      "['n']\n"
     ]
    },
    {
     "data": {
      "image/png": "[encoded data removed]",
      "text/plain": [
       "<Figure size 432x288 with 1 Axes>"
      ]
     },
     "metadata": {
      "needs_background": "light"
     },
     "output_type": "display_data"
    },
    {
     "name": "stdout",
     "output_type": "stream",
     "text": [
      "['r']\n"
     ]
    },
    {
     "data": {
      "image/png": "[encoded data removed]",
      "text/plain": [
       "<Figure size 432x288 with 1 Axes>"
      ]
     },
     "metadata": {
      "needs_background": "light"
     },
     "output_type": "display_data"
    },
    {
     "name": "stdout",
     "output_type": "stream",
     "text": [
      "['t']\n"
     ]
    },
    {
     "data": {
      "image/png": "[encoded data removed]",
      "text/plain": [
       "<Figure size 432x288 with 1 Axes>"
      ]
     },
     "metadata": {
      "needs_background": "light"
     },
     "output_type": "display_data"
    },
    {
     "name": "stdout",
     "output_type": "stream",
     "text": [
      "['a']\n"
     ]
    },
    {
     "data": {
      "image/png": "[encoded data removed]",
      "text/plain": [
       "<Figure size 432x288 with 1 Axes>"
      ]
     },
     "metadata": {
      "needs_background": "light"
     },
     "output_type": "display_data"
    }
   ],
   "source": [
    "pred = model.predict(t_images_reshaped)\n",
    "pred2 = model.predict(ass)\n",
    "\n",
    "print(alph_res(pred2[0]))\n",
    "show_char(n1)\n",
    "print(alph_res(pred2[1]))\n",
    "show_char(r1)\n",
    "print(alph_res(pred2[2]))\n",
    "show_char(t1)\n",
    "\n",
    "print(alph_res(pred[0]))\n",
    "show_char(t_images[0])"
   ]
  },
  {
   "cell_type": "code",
   "execution_count": 28,
   "metadata": {},
   "outputs": [],
   "source": [
    "model.save('../static/models/letters_model.h5py')"
   ]
  }
 ],
 "metadata": {
  "kernelspec": {
   "display_name": "Python 3",
   "language": "python",
   "name": "python3"
  },
  "language_info": {
   "codemirror_mode": {
    "name": "ipython",
    "version": 3
   },
   "file_extension": ".py",
   "mimetype": "text/x-python",
   "name": "python",
   "nbconvert_exporter": "python",
   "pygments_lexer": "ipython3",
   "version": "3.8.3"
  }
 },
 "nbformat": 4,
 "nbformat_minor": 2
}
